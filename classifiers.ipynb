{
 "cells": [
  {
   "cell_type": "markdown",
   "metadata": {},
   "source": [
    "# From Bayes to BERT: Classification Approaches in NLP\n",
    "***\n",
    "[Alejandro Ciuba](https://alejandrociuba.github.io), alejandrociuba@pitt.edu\n",
    "***\n",
    "## Summary\n",
    "\n",
    "This presentation looks at the various ways we can build and develop NLP pipelines for text classification tasks like author identification and sentiment analysis. The presentation plans to cover the following approaches:\n",
    "\n",
    "1. Simple Knowledge Bases using Forward and Backward Chaining\n",
    "    - Who wrote it: Jane Austen or Herman Melville?\n",
    "2. Naive Bayes Classifier\n",
    "3. K-Nearest Neighbors\n",
    "4. Support Vector Machine\n",
    "5. Logistic Regression\n",
    "6. Simple Feed-Forward Neural Network\n",
    "7. Recurrent Neural Network\n",
    "8. Long-Short Term Memory Network\n",
    "9. Gated Recurrent Unit Network\n",
    "10. Simple Transformer\n",
    "11. HuggingFace Classifiers\n",
    "***\n",
    "## Necessary Imports & Setup"
   ]
  },
  {
   "cell_type": "code",
   "execution_count": 39,
   "metadata": {},
   "outputs": [],
   "source": [
    "# These imports are required to run the notebook\n",
    "from pathlib import Path\n",
    "from sklearn.metrics import (accuracy_score,\n",
    "                             precision_score,\n",
    "                             recall_score,\n",
    "                             f1_score,\n",
    "                             confusion_matrix,)\n",
    "\n",
    "import nltk\n",
    "import os\n",
    "\n",
    "import matplotlib.pyplot as plt\n",
    "import pandas as pd\n",
    "import seaborn as sns"
   ]
  },
  {
   "cell_type": "markdown",
   "metadata": {},
   "source": [
    "### Load The Datasets"
   ]
  },
  {
   "cell_type": "code",
   "execution_count": 14,
   "metadata": {},
   "outputs": [
    {
     "data": {
      "text/html": [
       "<div>\n",
       "<style scoped>\n",
       "    .dataframe tbody tr th:only-of-type {\n",
       "        vertical-align: middle;\n",
       "    }\n",
       "\n",
       "    .dataframe tbody tr th {\n",
       "        vertical-align: top;\n",
       "    }\n",
       "\n",
       "    .dataframe thead th {\n",
       "        text-align: right;\n",
       "    }\n",
       "</style>\n",
       "<table border=\"1\" class=\"dataframe\">\n",
       "  <thead>\n",
       "    <tr style=\"text-align: right;\">\n",
       "      <th></th>\n",
       "      <th>author</th>\n",
       "      <th>book</th>\n",
       "      <th>line</th>\n",
       "      <th>tokens</th>\n",
       "    </tr>\n",
       "  </thead>\n",
       "  <tbody>\n",
       "    <tr>\n",
       "      <th>251653</th>\n",
       "      <td>tolstoy</td>\n",
       "      <td>anna_karenina</td>\n",
       "      <td>“i’ll go away tomorrow ... i’ll do more.</td>\n",
       "      <td>[“, i, ’, ll, go, away, tomorrow, ..., i, ’, l...</td>\n",
       "    </tr>\n",
       "    <tr>\n",
       "      <th>131324</th>\n",
       "      <td>tolstoy</td>\n",
       "      <td>war_and_peace</td>\n",
       "      <td>everyone stood up respectfully when the milita...</td>\n",
       "      <td>[everyone, stood, up, respectfully, when, the,...</td>\n",
       "    </tr>\n",
       "    <tr>\n",
       "      <th>203498</th>\n",
       "      <td>tolstoy</td>\n",
       "      <td>war_and_peace</td>\n",
       "      <td>“always some fantastic schemes,” said nicholas.</td>\n",
       "      <td>[“, always, some, fantastic, schemes, ,, ”, sa...</td>\n",
       "    </tr>\n",
       "    <tr>\n",
       "      <th>149423</th>\n",
       "      <td>tolstoy</td>\n",
       "      <td>war_and_peace</td>\n",
       "      <td>“don’t stint yourself, we’ll settle afterwards...</td>\n",
       "      <td>[“, don, ’, t, stint, yourself, ,, we, ’, ll, ...</td>\n",
       "    </tr>\n",
       "    <tr>\n",
       "      <th>231809</th>\n",
       "      <td>tolstoy</td>\n",
       "      <td>anna_karenina</td>\n",
       "      <td>“you must ask the doctor to examine the wet-nu...</td>\n",
       "      <td>[“, you, must, ask, the, doctor, to, examine, ...</td>\n",
       "    </tr>\n",
       "    <tr>\n",
       "      <th>248634</th>\n",
       "      <td>tolstoy</td>\n",
       "      <td>anna_karenina</td>\n",
       "      <td>but this lasted only an instant.</td>\n",
       "      <td>[but, this, lasted, only, an, instant, .]</td>\n",
       "    </tr>\n",
       "    <tr>\n",
       "      <th>78568</th>\n",
       "      <td>melville</td>\n",
       "      <td>moby_dick</td>\n",
       "      <td>my jack-knife here needs the grindstone.</td>\n",
       "      <td>[my, jack-knife, here, needs, the, grindstone, .]</td>\n",
       "    </tr>\n",
       "    <tr>\n",
       "      <th>151955</th>\n",
       "      <td>tolstoy</td>\n",
       "      <td>war_and_peace</td>\n",
       "      <td>after the field marshal’s departure it appears...</td>\n",
       "      <td>[after, the, field, marshal, ’, s, departure, ...</td>\n",
       "    </tr>\n",
       "    <tr>\n",
       "      <th>12862</th>\n",
       "      <td>austen</td>\n",
       "      <td>mansfield_park</td>\n",
       "      <td>the admiral delighted in the boy, mrs. crawfor...</td>\n",
       "      <td>[the, admiral, delighted, in, the, boy, ,, mrs...</td>\n",
       "    </tr>\n",
       "    <tr>\n",
       "      <th>12249</th>\n",
       "      <td>austen</td>\n",
       "      <td>mansfield_park</td>\n",
       "      <td>as for fanny’s being stupid at learning, “she ...</td>\n",
       "      <td>[as, for, fanny, ’, s, being, stupid, at, lear...</td>\n",
       "    </tr>\n",
       "  </tbody>\n",
       "</table>\n",
       "</div>"
      ],
      "text/plain": [
       "          author            book  \\\n",
       "251653   tolstoy   anna_karenina   \n",
       "131324   tolstoy   war_and_peace   \n",
       "203498   tolstoy   war_and_peace   \n",
       "149423   tolstoy   war_and_peace   \n",
       "231809   tolstoy   anna_karenina   \n",
       "248634   tolstoy   anna_karenina   \n",
       "78568   melville       moby_dick   \n",
       "151955   tolstoy   war_and_peace   \n",
       "12862     austen  mansfield_park   \n",
       "12249     austen  mansfield_park   \n",
       "\n",
       "                                                     line  \\\n",
       "251653           “i’ll go away tomorrow ... i’ll do more.   \n",
       "131324  everyone stood up respectfully when the milita...   \n",
       "203498    “always some fantastic schemes,” said nicholas.   \n",
       "149423  “don’t stint yourself, we’ll settle afterwards...   \n",
       "231809  “you must ask the doctor to examine the wet-nu...   \n",
       "248634                   but this lasted only an instant.   \n",
       "78568            my jack-knife here needs the grindstone.   \n",
       "151955  after the field marshal’s departure it appears...   \n",
       "12862   the admiral delighted in the boy, mrs. crawfor...   \n",
       "12249   as for fanny’s being stupid at learning, “she ...   \n",
       "\n",
       "                                                   tokens  \n",
       "251653  [“, i, ’, ll, go, away, tomorrow, ..., i, ’, l...  \n",
       "131324  [everyone, stood, up, respectfully, when, the,...  \n",
       "203498  [“, always, some, fantastic, schemes, ,, ”, sa...  \n",
       "149423  [“, don, ’, t, stint, yourself, ,, we, ’, ll, ...  \n",
       "231809  [“, you, must, ask, the, doctor, to, examine, ...  \n",
       "248634          [but, this, lasted, only, an, instant, .]  \n",
       "78568   [my, jack-knife, here, needs, the, grindstone, .]  \n",
       "151955  [after, the, field, marshal, ’, s, departure, ...  \n",
       "12862   [the, admiral, delighted, in, the, boy, ,, mrs...  \n",
       "12249   [as, for, fanny, ’, s, being, stupid, at, lear...  "
      ]
     },
     "execution_count": 14,
     "metadata": {},
     "output_type": "execute_result"
    }
   ],
   "source": [
    "PATH = \"./datasets/\"\n",
    "df = pd.read_pickle(PATH + \"dataset.pkl\")\n",
    "\n",
    "# Create a tokenized word column\n",
    "df[\"line\"] = df[\"line\"].map(lambda x: x.lower())\n",
    "df[\"tokens\"] = df[\"line\"].map(nltk.word_tokenize)\n",
    "\n",
    "df.sample(10)\n"
   ]
  },
  {
   "cell_type": "markdown",
   "metadata": {},
   "source": [
    "## Useful Helper Functions"
   ]
  },
  {
   "cell_type": "code",
   "execution_count": 34,
   "metadata": {},
   "outputs": [],
   "source": [
    "def get_metrics(targets, predictions):\n",
    "\n",
    "    acc = accuracy_score(y_true=targets, y_pred=predictions)\n",
    "    prec = precision_score(y_true=targets, y_pred=predictions, average=\"macro\")\n",
    "    rec = recall_score(y_true=targets, y_pred=predictions, average=\"macro\")\n",
    "    f1 = f1_score(y_true=targets, y_pred=predictions, average=\"macro\")\n",
    "    conf = confusion_matrix(y_true=targets, y_pred=predictions)\n",
    "\n",
    "    return acc, prec, rec, f1, conf"
   ]
  },
  {
   "cell_type": "code",
   "execution_count": 41,
   "metadata": {},
   "outputs": [],
   "source": [
    "def plot_confusion_matrix(cm, labels):   \n",
    "    sns.heatmap(cm, square=True, annot=True, fmt='d', cbar=True, cmap=\"Reds\", \n",
    "                xticklabels=labels, yticklabels=labels)\n",
    "    plt.xlabel('predicted label')\n",
    "    plt.ylabel('true label')\n",
    "    plt.show()"
   ]
  },
  {
   "cell_type": "markdown",
   "metadata": {},
   "source": [
    "### Ignore The Knowledge Base Implementation\n",
    "\n",
    "The knowledge base was modified from a previous homework I did for *CS2710: Foundations in AI*, and as such I will not be uploading it to the repository. Please run this to ignore the cells that require this import"
   ]
  },
  {
   "cell_type": "code",
   "execution_count": 3,
   "metadata": {},
   "outputs": [],
   "source": [
    "ALEJANDRO = True  # I'm me, lol\n",
    "\n",
    "if ALEJANDRO:    \n",
    "    from kb.Propositional_KB_agent import *\n"
   ]
  },
  {
   "cell_type": "markdown",
   "metadata": {},
   "source": [
    "***\n",
    "## Simple Knowledge Base\n",
    "\n",
    "While not necessarily used for classification, knowledge bases are a way to represent given rules (implications [`p -> q`]) and facts (literals [`p`]) about a *domain of discourse,* a group of objects. From these rules and facts, we can algorithmically deduce new rules (forward chaining) or prove new theorems (backward chaining)."
   ]
  },
  {
   "cell_type": "code",
   "execution_count": 4,
   "metadata": {},
   "outputs": [],
   "source": [
    "# Get all the sentences for Emma and Moby Dick\n",
    "if ALEJANDRO:\n",
    "    kb_df = df[(df.book == \"emma\") | (df.book == \"moby_dick\")]\n",
    "    kb_df.sample(10)"
   ]
  },
  {
   "cell_type": "code",
   "execution_count": 5,
   "metadata": {},
   "outputs": [],
   "source": [
    "# Define the rules for Jane Austen and Herman Melville\n",
    "if ALEJANDRO:\n",
    "    austen = {'Emma', 'Harriet', 'Weston', 'Knightley', \n",
    "            'Elton','Woodhouse', 'Jane', 'Fairfax', \n",
    "            'Churchill', 'Frank', 'Hartfield', 'Bates', \n",
    "            'Highbury', 'Perry', 'Cole', 'Goddard', \n",
    "            'Campbell', 'Donwell', 'Dixon', 'Taylor',}\n",
    "\n",
    "    melville = {'Ahab','Queequeg', 'Pequod', 'Bildad', \n",
    "                'Stubb', 'Starbuck', 'Peleg', 'Pip', \n",
    "                'Tashtego', 'Charley'}\n",
    "\n",
    "    austen = [Rule(f\"R{i}\", [name.lower()], \"emma\") for i, name in enumerate(austen)]\n",
    "    melville = [Rule(f\"R{i}\", [name.lower()], \"moby_dick\") for i, name in enumerate(melville)]\n",
    "\n",
    "    kb_austen = KB(init_RB=austen)\n",
    "    kb_melville = KB(init_RB=melville)"
   ]
  },
  {
   "cell_type": "code",
   "execution_count": 6,
   "metadata": {},
   "outputs": [
    {
     "name": "stdout",
     "output_type": "stream",
     "text": [
      "R0\n",
      "If: ['perry']\n",
      "Then: emma\n",
      " \n",
      "R1\n",
      "If: ['frank']\n",
      "Then: emma\n",
      " \n",
      "R2\n",
      "If: ['jane']\n",
      "Then: emma\n",
      " \n",
      "R3\n",
      "If: ['churchill']\n",
      "Then: emma\n",
      " \n",
      "R4\n",
      "If: ['hartfield']\n",
      "Then: emma\n",
      " \n",
      "R5\n",
      "If: ['elton']\n",
      "Then: emma\n",
      " \n",
      "R6\n",
      "If: ['emma']\n",
      "Then: emma\n",
      " \n",
      "R7\n",
      "If: ['weston']\n",
      "Then: emma\n",
      " \n",
      "R8\n",
      "If: ['knightley']\n",
      "Then: emma\n",
      " \n",
      "R9\n",
      "If: ['bates']\n",
      "Then: emma\n",
      " \n",
      "R10\n",
      "If: ['dixon']\n",
      "Then: emma\n",
      " \n",
      "R11\n",
      "If: ['goddard']\n",
      "Then: emma\n",
      " \n",
      "R12\n",
      "If: ['highbury']\n",
      "Then: emma\n",
      " \n",
      "R13\n",
      "If: ['woodhouse']\n",
      "Then: emma\n",
      " \n",
      "R14\n",
      "If: ['donwell']\n",
      "Then: emma\n",
      " \n",
      "R15\n",
      "If: ['campbell']\n",
      "Then: emma\n",
      " \n",
      "R16\n",
      "If: ['fairfax']\n",
      "Then: emma\n",
      " \n",
      "R17\n",
      "If: ['harriet']\n",
      "Then: emma\n",
      " \n",
      "R18\n",
      "If: ['taylor']\n",
      "Then: emma\n",
      " \n",
      "R19\n",
      "If: ['cole']\n",
      "Then: emma\n",
      " \n"
     ]
    }
   ],
   "source": [
    "if ALEJANDRO:\n",
    "    kb_austen.print_RB()"
   ]
  },
  {
   "cell_type": "markdown",
   "metadata": {},
   "source": [
    "Since our knowledge base is simple, this becomes a simple check on the rules. No forward or backward chaining necessary."
   ]
  },
  {
   "cell_type": "code",
   "execution_count": 7,
   "metadata": {},
   "outputs": [
    {
     "name": "stderr",
     "output_type": "stream",
     "text": [
      "/tmp/ipykernel_56189/2958747777.py:18: SettingWithCopyWarning: \n",
      "A value is trying to be set on a copy of a slice from a DataFrame.\n",
      "Try using .loc[row_indexer,col_indexer] = value instead\n",
      "\n",
      "See the caveats in the documentation: https://pandas.pydata.org/pandas-docs/stable/user_guide/indexing.html#returning-a-view-versus-a-copy\n",
      "  kb_df[\"prediction\"] = kb_df[\"tokens\"].map(predict)\n"
     ]
    }
   ],
   "source": [
    "if ALEJANDRO:\n",
    "    def predict(tokens):\n",
    "\n",
    "        # Reset the facts each time\n",
    "        kb_austen.reset_FB()\n",
    "        kb_melville.reset_FB()\n",
    "\n",
    "        kb_austen.add_facts(tokens)\n",
    "        kb_melville.add_facts(tokens)\n",
    "\n",
    "        if forwardchain(kb_austen, \"emma\"):\n",
    "            return \"emma\"\n",
    "        elif forwardchain(kb_melville, \"moby_dick\"):\n",
    "            return \"moby_dick\"\n",
    "        else:\n",
    "            return \"no_answer\"\n",
    "            \n",
    "    kb_df[\"prediction\"] = kb_df[\"tokens\"].map(predict)\n",
    "\n",
    "    kb_df.sample(10)"
   ]
  },
  {
   "cell_type": "code",
   "execution_count": 43,
   "metadata": {},
   "outputs": [
    {
     "name": "stderr",
     "output_type": "stream",
     "text": [
      "/home/computer_cat/miniconda3/envs/pyling/lib/python3.9/site-packages/sklearn/metrics/_classification.py:1469: UndefinedMetricWarning: Recall is ill-defined and being set to 0.0 in labels with no true samples. Use `zero_division` parameter to control this behavior.\n",
      "  _warn_prf(average, modifier, msg_start, len(result))\n"
     ]
    },
    {
     "name": "stdout",
     "output_type": "stream",
     "text": [
      "Accuracy: 0.2649\n",
      "Precision: 0.6662\n",
      "Recall: 0.1968\n",
      "F1 Score: 0.2896\n"
     ]
    },
    {
     "data": {
      "image/png": "[encoded data removed]",
      "text/plain": [
       "<Figure size 640x480 with 2 Axes>"
      ]
     },
     "metadata": {},
     "output_type": "display_data"
    }
   ],
   "source": [
    "# Check the metrics\n",
    "if ALEJANDRO:\n",
    "\n",
    "    acc, prec, rec, f1, conf = get_metrics(targets=kb_df[\"book\"], predictions=kb_df[\"prediction\"])\n",
    "    print(f\"Accuracy: {acc:.4f}\")\n",
    "    print(f\"Precision: {prec:.4f}\")\n",
    "    print(f\"Recall: {rec:.4f}\")\n",
    "    print(f\"F1 Score: {f1:.4f}\")\n",
    "\n",
    "    plot_confusion_matrix(conf, labels=[\"emma\", \"moby_dick\", \"no_answer\"])"
   ]
  },
  {
   "cell_type": "markdown",
   "metadata": {},
   "source": [
    "***\n",
    "## Naive Bayes Classifier\n",
    "The Naive Bayes Classifier uses Bayes' rule to predict if a given string of text is one of two classes.\n",
    "\n",
    "$$P(\\mathrm{tag} \\vert \\mathrm{words}) = \\frac{P(\\mathrm{words} \\vert \\mathrm{tag}) \\times P(\\mathrm{tag})}{P(\\mathrm{words})}$$\n",
    "\n",
    "But what exactly are the $\\mathrm{words}$ in this case? Sure, we could use the raw counts of each word, but that might not give us enough information. NBC assumes *feature independence* and that the features are unordered (*bag of words*) meaning it does not consider how the probability changes as more words are added. We want words that appear more to have more weight, and we want to capture something about the relationship between these words. This is *feature engineering.*"
   ]
  },
  {
   "cell_type": "code",
   "execution_count": 24,
   "metadata": {},
   "outputs": [],
   "source": [
    "from sklearn.naive_bayes import (GaussianNB,\n",
    "                                 BernoulliNB,\n",
    "                                 MultinomialNB,)\n",
    "\n",
    "from sklearn.preprocessing import LabelEncoder\n",
    "\n",
    "from sklearn.pipeline import make_pipeline\n",
    "\n",
    "from sklearn.model_selection import train_test_split\n",
    "\n",
    "from sklearn.feature_extraction.text import (CountVectorizer,\n",
    "                                             TfidfVectorizer,)"
   ]
  },
  {
   "cell_type": "markdown",
   "metadata": {},
   "source": [
    "First, let's get our data in a simpler format. Let's start with turning our labels (authors and books) into numbers!"
   ]
  },
  {
   "cell_type": "code",
   "execution_count": 25,
   "metadata": {},
   "outputs": [
    {
     "data": {
      "text/html": [
       "<div>\n",
       "<style scoped>\n",
       "    .dataframe tbody tr th:only-of-type {\n",
       "        vertical-align: middle;\n",
       "    }\n",
       "\n",
       "    .dataframe tbody tr th {\n",
       "        vertical-align: top;\n",
       "    }\n",
       "\n",
       "    .dataframe thead th {\n",
       "        text-align: right;\n",
       "    }\n",
       "</style>\n",
       "<table border=\"1\" class=\"dataframe\">\n",
       "  <thead>\n",
       "    <tr style=\"text-align: right;\">\n",
       "      <th></th>\n",
       "      <th>author</th>\n",
       "      <th>book</th>\n",
       "      <th>line</th>\n",
       "      <th>tokens</th>\n",
       "      <th>author_label</th>\n",
       "      <th>book_label</th>\n",
       "    </tr>\n",
       "  </thead>\n",
       "  <tbody>\n",
       "    <tr>\n",
       "      <th>152437</th>\n",
       "      <td>tolstoy</td>\n",
       "      <td>war_and_peace</td>\n",
       "      <td>“to kill a vicious dog is a very good thing re...</td>\n",
       "      <td>[“, to, kill, a, vicious, dog, is, a, very, go...</td>\n",
       "      <td>2</td>\n",
       "      <td>11</td>\n",
       "    </tr>\n",
       "    <tr>\n",
       "      <th>95822</th>\n",
       "      <td>melville</td>\n",
       "      <td>moby_dick</td>\n",
       "      <td>sir?—clay?</td>\n",
       "      <td>[sir, ?, —clay, ?]</td>\n",
       "      <td>1</td>\n",
       "      <td>5</td>\n",
       "    </tr>\n",
       "  </tbody>\n",
       "</table>\n",
       "</div>"
      ],
      "text/plain": [
       "          author           book  \\\n",
       "152437   tolstoy  war_and_peace   \n",
       "95822   melville      moby_dick   \n",
       "\n",
       "                                                     line  \\\n",
       "152437  “to kill a vicious dog is a very good thing re...   \n",
       "95822                                          sir?—clay?   \n",
       "\n",
       "                                                   tokens  author_label  \\\n",
       "152437  [“, to, kill, a, vicious, dog, is, a, very, go...             2   \n",
       "95822                                  [sir, ?, —clay, ?]             1   \n",
       "\n",
       "        book_label  \n",
       "152437          11  \n",
       "95822            5  "
      ]
     },
     "execution_count": 25,
     "metadata": {},
     "output_type": "execute_result"
    }
   ],
   "source": [
    "authors = LabelEncoder()\n",
    "df[\"author_label\"] = authors.fit_transform(df.author)\n",
    "\n",
    "books = LabelEncoder()\n",
    "df[\"book_label\"] = authors.fit_transform(df.book)\n",
    "\n",
    "df.sample(2)"
   ]
  },
  {
   "cell_type": "markdown",
   "metadata": {},
   "source": [
    "First, let's just predict between Jane Austen and Herman Melville. We need to filter our dataset for only these two authors and then create a training-testing split!"
   ]
  },
  {
   "cell_type": "code",
   "execution_count": 26,
   "metadata": {},
   "outputs": [
    {
     "name": "stdout",
     "output_type": "stream",
     "text": [
      "and with the knowledge of your ill opinion too!\n",
      "0\n",
      "88691 38011\n"
     ]
    }
   ],
   "source": [
    "nb1_df = df[(df.author == \"austen\") | (df.author == \"melville\")]\n",
    "\n",
    "X_train, X_test, y_train, y_test = train_test_split(nb1_df[\"line\"].to_list(), nb1_df[\"author_label\"].to_list(), train_size=0.7)\n",
    "\n",
    "print(X_train[0])\n",
    "print(y_train[0])\n",
    "\n",
    "print(len(X_train), len(X_test))"
   ]
  },
  {
   "cell_type": "markdown",
   "metadata": {},
   "source": [
    "To start off, let's use simple *count-based features*. This means a word's numerical representation is simply the number of times it appears in the dataset."
   ]
  },
  {
   "cell_type": "code",
   "execution_count": 27,
   "metadata": {},
   "outputs": [
    {
     "name": "stdout",
     "output_type": "stream",
     "text": [
      "[[0 0 0 ... 0 0 0]\n",
      " [0 0 0 ... 0 0 0]]\n"
     ]
    }
   ],
   "source": [
    "example = CountVectorizer(max_features=2000, max_df=0.7, ngram_range=(1, 3), stop_words=\"english\")\n",
    "counts = example.fit_transform(X_train)\n",
    "\n",
    "print(counts.toarray()[:2])"
   ]
  },
  {
   "cell_type": "markdown",
   "metadata": {},
   "source": [
    "We can combine models and feature preprocessing via *pipelines!*"
   ]
  },
  {
   "cell_type": "code",
   "execution_count": 28,
   "metadata": {},
   "outputs": [
    {
     "data": {
      "text/html": [
       "<style>#sk-container-id-1 {color: black;}#sk-container-id-1 pre{padding: 0;}#sk-container-id-1 div.sk-toggleable {background-color: white;}#sk-container-id-1 label.sk-toggleable__label {cursor: pointer;display: block;width: 100%;margin-bottom: 0;padding: 0.3em;box-sizing: border-box;text-align: center;}#sk-container-id-1 label.sk-toggleable__label-arrow:before {content: \"▸\";float: left;margin-right: 0.25em;color: #696969;}#sk-container-id-1 label.sk-toggleable__label-arrow:hover:before {color: black;}#sk-container-id-1 div.sk-estimator:hover label.sk-toggleable__label-arrow:before {color: black;}#sk-container-id-1 div.sk-toggleable__content {max-height: 0;max-width: 0;overflow: hidden;text-align: left;background-color: #f0f8ff;}#sk-container-id-1 div.sk-toggleable__content pre {margin: 0.2em;color: black;border-radius: 0.25em;background-color: #f0f8ff;}#sk-container-id-1 input.sk-toggleable__control:checked~div.sk-toggleable__content {max-height: 200px;max-width: 100%;overflow: auto;}#sk-container-id-1 input.sk-toggleable__control:checked~label.sk-toggleable__label-arrow:before {content: \"▾\";}#sk-container-id-1 div.sk-estimator input.sk-toggleable__control:checked~label.sk-toggleable__label {background-color: #d4ebff;}#sk-container-id-1 div.sk-label input.sk-toggleable__control:checked~label.sk-toggleable__label {background-color: #d4ebff;}#sk-container-id-1 input.sk-hidden--visually {border: 0;clip: rect(1px 1px 1px 1px);clip: rect(1px, 1px, 1px, 1px);height: 1px;margin: -1px;overflow: hidden;padding: 0;position: absolute;width: 1px;}#sk-container-id-1 div.sk-estimator {font-family: monospace;background-color: #f0f8ff;border: 1px dotted black;border-radius: 0.25em;box-sizing: border-box;margin-bottom: 0.5em;}#sk-container-id-1 div.sk-estimator:hover {background-color: #d4ebff;}#sk-container-id-1 div.sk-parallel-item::after {content: \"\";width: 100%;border-bottom: 1px solid gray;flex-grow: 1;}#sk-container-id-1 div.sk-label:hover label.sk-toggleable__label {background-color: #d4ebff;}#sk-container-id-1 div.sk-serial::before {content: \"\";position: absolute;border-left: 1px solid gray;box-sizing: border-box;top: 0;bottom: 0;left: 50%;z-index: 0;}#sk-container-id-1 div.sk-serial {display: flex;flex-direction: column;align-items: center;background-color: white;padding-right: 0.2em;padding-left: 0.2em;position: relative;}#sk-container-id-1 div.sk-item {position: relative;z-index: 1;}#sk-container-id-1 div.sk-parallel {display: flex;align-items: stretch;justify-content: center;background-color: white;position: relative;}#sk-container-id-1 div.sk-item::before, #sk-container-id-1 div.sk-parallel-item::before {content: \"\";position: absolute;border-left: 1px solid gray;box-sizing: border-box;top: 0;bottom: 0;left: 50%;z-index: -1;}#sk-container-id-1 div.sk-parallel-item {display: flex;flex-direction: column;z-index: 1;position: relative;background-color: white;}#sk-container-id-1 div.sk-parallel-item:first-child::after {align-self: flex-end;width: 50%;}#sk-container-id-1 div.sk-parallel-item:last-child::after {align-self: flex-start;width: 50%;}#sk-container-id-1 div.sk-parallel-item:only-child::after {width: 0;}#sk-container-id-1 div.sk-dashed-wrapped {border: 1px dashed gray;margin: 0 0.4em 0.5em 0.4em;box-sizing: border-box;padding-bottom: 0.4em;background-color: white;}#sk-container-id-1 div.sk-label label {font-family: monospace;font-weight: bold;display: inline-block;line-height: 1.2em;}#sk-container-id-1 div.sk-label-container {text-align: center;}#sk-container-id-1 div.sk-container {/* jupyter's `normalize.less` sets `[hidden] { display: none; }` but bootstrap.min.css set `[hidden] { display: none !important; }` so we also need the `!important` here to be able to override the default hidden behavior on the sphinx rendered scikit-learn.org. See: https://github.com/scikit-learn/scikit-learn/issues/21755 */display: inline-block !important;position: relative;}#sk-container-id-1 div.sk-text-repr-fallback {display: none;}</style><div id=\"sk-container-id-1\" class=\"sk-top-container\"><div class=\"sk-text-repr-fallback\"><pre>Pipeline(steps=[(&#x27;countvectorizer&#x27;,\n",
       "                 CountVectorizer(max_df=0.7, max_features=2000,\n",
       "                                 ngram_range=(1, 3), stop_words=&#x27;english&#x27;)),\n",
       "                (&#x27;multinomialnb&#x27;, MultinomialNB())])</pre><b>In a Jupyter environment, please rerun this cell to show the HTML representation or trust the notebook. <br />On GitHub, the HTML representation is unable to render, please try loading this page with nbviewer.org.</b></div><div class=\"sk-container\" hidden><div class=\"sk-item sk-dashed-wrapped\"><div class=\"sk-label-container\"><div class=\"sk-label sk-toggleable\"><input class=\"sk-toggleable__control sk-hidden--visually\" id=\"sk-estimator-id-1\" type=\"checkbox\" ><label for=\"sk-estimator-id-1\" class=\"sk-toggleable__label sk-toggleable__label-arrow\">Pipeline</label><div class=\"sk-toggleable__content\"><pre>Pipeline(steps=[(&#x27;countvectorizer&#x27;,\n",
       "                 CountVectorizer(max_df=0.7, max_features=2000,\n",
       "                                 ngram_range=(1, 3), stop_words=&#x27;english&#x27;)),\n",
       "                (&#x27;multinomialnb&#x27;, MultinomialNB())])</pre></div></div></div><div class=\"sk-serial\"><div class=\"sk-item\"><div class=\"sk-estimator sk-toggleable\"><input class=\"sk-toggleable__control sk-hidden--visually\" id=\"sk-estimator-id-2\" type=\"checkbox\" ><label for=\"sk-estimator-id-2\" class=\"sk-toggleable__label sk-toggleable__label-arrow\">CountVectorizer</label><div class=\"sk-toggleable__content\"><pre>CountVectorizer(max_df=0.7, max_features=2000, ngram_range=(1, 3),\n",
       "                stop_words=&#x27;english&#x27;)</pre></div></div></div><div class=\"sk-item\"><div class=\"sk-estimator sk-toggleable\"><input class=\"sk-toggleable__control sk-hidden--visually\" id=\"sk-estimator-id-3\" type=\"checkbox\" ><label for=\"sk-estimator-id-3\" class=\"sk-toggleable__label sk-toggleable__label-arrow\">MultinomialNB</label><div class=\"sk-toggleable__content\"><pre>MultinomialNB()</pre></div></div></div></div></div></div></div>"
      ],
      "text/plain": [
       "Pipeline(steps=[('countvectorizer',\n",
       "                 CountVectorizer(max_df=0.7, max_features=2000,\n",
       "                                 ngram_range=(1, 3), stop_words='english')),\n",
       "                ('multinomialnb', MultinomialNB())])"
      ]
     },
     "execution_count": 28,
     "metadata": {},
     "output_type": "execute_result"
    }
   ],
   "source": [
    "nb_pipe_01 = make_pipeline(CountVectorizer(max_features=2000, max_df=0.7, ngram_range=(1, 3), stop_words=\"english\"),\n",
    "                           MultinomialNB())\n",
    "\n",
    "nb_pipe_01.fit(X=X_train, y=y_train)"
   ]
  },
  {
   "cell_type": "markdown",
   "metadata": {},
   "source": [
    "Let's test it to see how it performs on the training data"
   ]
  },
  {
   "cell_type": "code",
   "execution_count": 29,
   "metadata": {},
   "outputs": [],
   "source": [
    "predictions = nb_pipe_01.predict(X_test)"
   ]
  },
  {
   "cell_type": "code",
   "execution_count": 44,
   "metadata": {},
   "outputs": [
    {
     "name": "stdout",
     "output_type": "stream",
     "text": [
      "Accuracy: 0.8670\n",
      "Precision: 0.8706\n",
      "Recall: 0.8672\n",
      "F1 Score: 0.8667\n"
     ]
    },
    {
     "data": {
      "image/png": "[encoded data removed]",
      "text/plain": [
       "<Figure size 640x480 with 2 Axes>"
      ]
     },
     "metadata": {},
     "output_type": "display_data"
    }
   ],
   "source": [
    "acc, prec, rec, f1, conf = get_metrics(targets=y_test, predictions=predictions)\n",
    "\n",
    "print(f\"Accuracy: {acc:.4f}\")\n",
    "print(f\"Precision: {prec:.4f}\")\n",
    "print(f\"Recall: {rec:.4f}\")\n",
    "print(f\"F1 Score: {f1:.4f}\")\n",
    "\n",
    "plot_confusion_matrix(conf, labels=[\"Austen\", \"Melville\"])"
   ]
  }
 ],
 "metadata": {
  "kernelspec": {
   "display_name": "pyling",
   "language": "python",
   "name": "python3"
  },
  "language_info": {
   "codemirror_mode": {
    "name": "ipython",
    "version": 3
   },
   "file_extension": ".py",
   "mimetype": "text/x-python",
   "name": "python",
   "nbconvert_exporter": "python",
   "pygments_lexer": "ipython3",
   "version": "3.9.0"
  }
 },
 "nbformat": 4,
 "nbformat_minor": 2
}
